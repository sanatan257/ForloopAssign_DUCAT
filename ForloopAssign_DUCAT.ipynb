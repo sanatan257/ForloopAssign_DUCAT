{
 "cells": [
  {
   "cell_type": "code",
   "execution_count": 1,
   "id": "2792b74b-9050-4105-8c36-40b1e9222fa0",
   "metadata": {},
   "outputs": [
    {
     "name": "stdout",
     "output_type": "stream",
     "text": [
      "1\n",
      "2\n",
      "3\n",
      "4\n",
      "5\n",
      "6\n",
      "7\n",
      "8\n",
      "9\n",
      "10\n"
     ]
    }
   ],
   "source": [
    "# Question 1  Write a Python program to print all the numbers from 1 to 10 using a for loop.\n",
    "\n",
    "for i in range(1,11):\n",
    "    print(i)"
   ]
  },
  {
   "cell_type": "code",
   "execution_count": 8,
   "id": "8d034209-2d78-4950-88e4-0778d7f7fe57",
   "metadata": {},
   "outputs": [
    {
     "name": "stdout",
     "output_type": "stream",
     "text": [
      "Total is: 5050\n"
     ]
    }
   ],
   "source": [
    "# Question 2: Write a Python program to find the sum of all numbers from 1 to 100 using a for loop.\n",
    "num = 0\n",
    "for i in range(1,101):\n",
    "    num = num + i\n",
    "print(\"Total is:\",num)"
   ]
  },
  {
   "cell_type": "code",
   "execution_count": 10,
   "id": "d1399bb0-70a7-4a74-ae8f-9a53ea5d316b",
   "metadata": {},
   "outputs": [
    {
     "name": "stdin",
     "output_type": "stream",
     "text": [
      "Enter the number 2\n"
     ]
    },
    {
     "name": "stdout",
     "output_type": "stream",
     "text": [
      "2 X 1 = 2\n",
      "2 X 2 = 4\n",
      "2 X 3 = 6\n",
      "2 X 4 = 8\n",
      "2 X 5 = 10\n",
      "2 X 6 = 12\n",
      "2 X 7 = 14\n",
      "2 X 8 = 16\n",
      "2 X 9 = 18\n",
      "2 X 10 = 20\n"
     ]
    }
   ],
   "source": [
    "# Question 3: Write a Python program to print the multiplication table of a given number using a for loop.  \n",
    "Enter_number = int(input(\"Enter the number\"))\n",
    "for i in range (1,11):\n",
    "    print(f\"{Enter_number} X {i} = {Enter_number * i}\")\n"
   ]
  },
  {
   "cell_type": "code",
   "execution_count": 11,
   "id": "3fab6bc7-1356-44f8-83f4-7159aa699c74",
   "metadata": {},
   "outputs": [
    {
     "name": "stdout",
     "output_type": "stream",
     "text": [
      "Even numbers count: 5\n",
      "Odd numbers count: 5\n"
     ]
    }
   ],
   "source": [
    "# Question 4: Write a Python program to count the number of even and odd numbers from a series of numbers using a for loop.\n",
    "\n",
    "numbers = [1, 2, 3, 4, 5, 6, 7, 8, 9, 10]\n",
    "\n",
    "even_count = 0\n",
    "odd_count = 0\n",
    "\n",
    "for num in numbers:      \n",
    "    if num % 2 == 0:     \n",
    "        even_count =even_count + 1\n",
    "    else:                # otherwise odd\n",
    "        odd_count =odd_count + 1\n",
    "\n",
    "print(\"Even numbers count:\", even_count)\n",
    "print(\"Odd numbers count:\", odd_count)\n"
   ]
  },
  {
   "cell_type": "code",
   "execution_count": 18,
   "id": "c8bd6a1c-0579-4dbd-9489-aeaaa99be577",
   "metadata": {},
   "outputs": [
    {
     "name": "stdin",
     "output_type": "stream",
     "text": [
      "Enter the number 5\n"
     ]
    },
    {
     "name": "stdout",
     "output_type": "stream",
     "text": [
      "Factorial is: 120\n"
     ]
    }
   ],
   "source": [
    "# Question 5: Write a Python program to find the factorial of a number using a for loop. \n",
    "num = int(input(\"Enter the number\"))\n",
    "factorial = 1\n",
    "\n",
    "for i in range (1, num + 1):\n",
    "    factorial = factorial*i\n",
    "    \n",
    "print(\"Factorial is:\", factorial)\n"
   ]
  },
  {
   "cell_type": "code",
   "execution_count": 22,
   "id": "0c2de8e4-57a3-4f67-9929-6e32be10988c",
   "metadata": {},
   "outputs": [
    {
     "name": "stdin",
     "output_type": "stream",
     "text": [
      "Enter the number of terms:  3\n"
     ]
    },
    {
     "name": "stdout",
     "output_type": "stream",
     "text": [
      "0 1 1 "
     ]
    }
   ],
   "source": [
    "# Question 6: Write a Python program to print the Fibonacci sequence up to a specified number using a for loop.\n",
    "n = int(input(\"Enter the number of terms: \"))\n",
    "a, b = 0, 1\n",
    "\n",
    "for _ in range(n):\n",
    "    print(a, end=\" \")\n",
    "    a, b = b, a + b\n"
   ]
  },
  {
   "cell_type": "code",
   "execution_count": 23,
   "id": "65dd2010-4284-492b-8dea-90aae0229143",
   "metadata": {},
   "outputs": [
    {
     "name": "stdin",
     "output_type": "stream",
     "text": [
      "Enter a number:  5\n"
     ]
    },
    {
     "name": "stdout",
     "output_type": "stream",
     "text": [
      "Prime\n"
     ]
    }
   ],
   "source": [
    "# Question 7: Write a Python program to check if a given number is prime or not using a for loop.  \n",
    "num = int(input(\"Enter a number: \"))\n",
    "is_prime = True\n",
    "\n",
    "if num > 1:\n",
    "    for i in range(2, num):\n",
    "        if num % i == 0:\n",
    "            is_prime = False\n",
    "            break\n",
    "else:\n",
    "    is_prime = False\n",
    "\n",
    "print(\"Prime\" if is_prime else \"Not Prime\")\n"
   ]
  },
  {
   "cell_type": "code",
   "execution_count": 24,
   "id": "b271ce6b-037d-4b83-a535-071245348abe",
   "metadata": {},
   "outputs": [
    {
     "name": "stdout",
     "output_type": "stream",
     "text": [
      "Largest element is: 89\n"
     ]
    }
   ],
   "source": [
    "# Question 8  8: Write a Python program to find the largest element in a list using a for loop. \n",
    "numbers = [10, 25, 47, 3, 89, 56]\n",
    "largest = numbers[0]\n",
    "\n",
    "for num in numbers:\n",
    "    if num > largest:\n",
    "        largest = num\n",
    "\n",
    "print(\"Largest element is:\", largest)\n"
   ]
  },
  {
   "cell_type": "code",
   "execution_count": 26,
   "id": "32b40403-e35a-457e-840a-771f8f633167",
   "metadata": {},
   "outputs": [
    {
     "name": "stdin",
     "output_type": "stream",
     "text": [
      "Enter a string:  45\n"
     ]
    },
    {
     "name": "stdout",
     "output_type": "stream",
     "text": [
      "Reversed string is: 54\n"
     ]
    }
   ],
   "source": [
    "# Question 9: Write a Python program to reverse a given string using a for loop. \n",
    "string = input(\"Enter a string: \")\n",
    "reversed_string = \"\"\n",
    "\n",
    "for char in string:\n",
    "    reversed_string = char + reversed_string\n",
    "\n",
    "print(\"Reversed string is:\", reversed_string)\n"
   ]
  },
  {
   "cell_type": "code",
   "execution_count": 27,
   "id": "24e5ca4b-d11a-45a5-8bbb-b7edcc637180",
   "metadata": {},
   "outputs": [
    {
     "name": "stdout",
     "output_type": "stream",
     "text": [
      "Common elements: [1]\n"
     ]
    }
   ],
   "source": [
    "# Question 10:  Write a Python program to find the common elements between two lists using a for loop. \n",
    "\n",
    "list1 = [1, 2, 3]\n",
    "list2 = [4, 5, 1]\n",
    "common = []\n",
    "\n",
    "for i in list1:\n",
    "    if i in list2:\n",
    "        common.append(i)\n",
    "\n",
    "print(\"Common elements:\", common)\n"
   ]
  },
  {
   "cell_type": "code",
   "execution_count": null,
   "id": "4514916f-cacf-4f35-a77b-4c8b1abab7fa",
   "metadata": {},
   "outputs": [],
   "source": []
  }
 ],
 "metadata": {
  "kernelspec": {
   "display_name": "Python 3 (ipykernel)",
   "language": "python",
   "name": "python3"
  },
  "language_info": {
   "codemirror_mode": {
    "name": "ipython",
    "version": 3
   },
   "file_extension": ".py",
   "mimetype": "text/x-python",
   "name": "python",
   "nbconvert_exporter": "python",
   "pygments_lexer": "ipython3",
   "version": "3.11.7"
  }
 },
 "nbformat": 4,
 "nbformat_minor": 5
}
